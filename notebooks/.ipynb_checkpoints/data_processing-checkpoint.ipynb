{
 "cells": [
  {
   "cell_type": "code",
   "execution_count": 1,
   "id": "bb098934",
   "metadata": {},
   "outputs": [],
   "source": [
    "from pybaseball import lahman\n",
    "import pandas as pd\n",
    "import numpy as np\n",
    "\n"
   ]
  },
  {
   "cell_type": "code",
   "execution_count": 3,
   "id": "ccc82002",
   "metadata": {},
   "outputs": [],
   "source": [
    "pitching_df = lahman.pitching()\n",
    "hofer = pd.read_csv('../data/baseballdatabank-2022/contrib/HallOfFame.csv')"
   ]
  },
  {
   "cell_type": "code",
   "execution_count": 4,
   "id": "33f93cde",
   "metadata": {},
   "outputs": [],
   "source": [
    "# get the hall of fame players from HOF dataset\n",
    "hofer_players = hofer[(hofer.inducted == 'Y') & (hofer.category == 'Player')]"
   ]
  },
  {
   "cell_type": "code",
   "execution_count": null,
   "id": "308402e5",
   "metadata": {},
   "outputs": [],
   "source": []
  }
 ],
 "metadata": {
  "kernelspec": {
   "display_name": "Python 3 (ipykernel)",
   "language": "python",
   "name": "python3"
  },
  "language_info": {
   "codemirror_mode": {
    "name": "ipython",
    "version": 3
   },
   "file_extension": ".py",
   "mimetype": "text/x-python",
   "name": "python",
   "nbconvert_exporter": "python",
   "pygments_lexer": "ipython3",
   "version": "3.8.6"
  }
 },
 "nbformat": 4,
 "nbformat_minor": 5
}
